def maxFreq(l):
    dict = {}
    for no in l:
        dict[no] = dict.get(no, 0) + 1
    
    maxfreq = 0
    maxfreqkey = None
    for no in dict:
        if maxfreq < dict[no]:
            maxfreq = dict[no]
            maxfreqkey = no
    return maxfreqkey

# Main
n=int(input())
l=list(int(i) for i in input().strip().split(' '))
print(maxFreq(l))

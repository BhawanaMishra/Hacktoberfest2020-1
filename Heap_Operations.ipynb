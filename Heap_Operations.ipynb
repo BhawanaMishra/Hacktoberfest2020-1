import heapq

li = [2,9,4,6,8,1,5]
heapq.heapify(li)
print(li)
heapq.heappush(li, 10)
print(li)
heapq.heappop(li)
print(li)
heapq.heapreplace(li, 11)
print(li)

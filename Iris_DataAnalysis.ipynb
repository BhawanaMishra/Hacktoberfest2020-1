import pandas as pd
import math


column_name =["sepal.length","sepal.width","petal.length","petal.width","variety"]
iris = pd.read_csv("https://archive.ics.uci.edu/ml/machine-learning-databases/iris/iris.data", names=column_name)

var = iris.variety.unique()
va = ['Iris-setosa', 'Iris-versicolor', 'Iris-virginica']

for j in range(len(var)):
    ele = var[j]
    v = va[j]
    mina = iris[iris.variety == ele].min()
    for i in range(4):
        e = mina[i]
        print(format(e, ".2f"), end = " ")
    print(v)
    
    maxa = iris[iris.variety == ele].max()
    for i in range(4):
        e = maxa[i]
        print(format(e, ".2f"), end = " ")
    print(v)
    
    meana = iris[iris.variety == ele].mean()
    for i in range(4):
        e = meana[i]
        print(math.trunc(e*100)/100, end = " ")
    print(v)

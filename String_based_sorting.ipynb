l = ["no bun", "bug bun bug bun bug bug", "bunny bug", "buggy bug bug buggy"]
st = input("string: ")
d = {}
for e in l:
  count = 0
  ele = e.split()
  for s in ele:
    if (st in s) or st == s:
      count += 1
  d[e] = count

d = sorted(d.items(), key = lambda x:x[1], reverse = True)
l = []
for e in d:
  l.append(e[0])
print(l)
